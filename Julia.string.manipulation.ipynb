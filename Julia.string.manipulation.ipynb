{
 "cells": [
  {
   "cell_type": "code",
   "execution_count": 1,
   "id": "a173043c",
   "metadata": {},
   "outputs": [
    {
     "data": {
      "text/plain": [
       "\"I love julia\""
      ]
     },
     "execution_count": 1,
     "metadata": {},
     "output_type": "execute_result"
    }
   ],
   "source": [
    "s1=\"I love julia\""
   ]
  },
  {
   "cell_type": "code",
   "execution_count": 2,
   "id": "912ec9e4",
   "metadata": {},
   "outputs": [
    {
     "data": {
      "text/plain": [
       "12"
      ]
     },
     "execution_count": 2,
     "metadata": {},
     "output_type": "execute_result"
    }
   ],
   "source": [
    "length(s1)"
   ]
  },
  {
   "cell_type": "code",
   "execution_count": 3,
   "id": "e0bed0b5",
   "metadata": {},
   "outputs": [
    {
     "data": {
      "text/plain": [
       "12"
      ]
     },
     "execution_count": 3,
     "metadata": {},
     "output_type": "execute_result"
    }
   ],
   "source": [
    "lastindex(s1)"
   ]
  },
  {
   "cell_type": "code",
   "execution_count": 4,
   "id": "8a08a585",
   "metadata": {},
   "outputs": [
    {
     "data": {
      "text/plain": [
       "'o': ASCII/Unicode U+006F (category Ll: Letter, lowercase)"
      ]
     },
     "execution_count": 4,
     "metadata": {},
     "output_type": "execute_result"
    }
   ],
   "source": [
    "s1[4]"
   ]
  },
  {
   "cell_type": "code",
   "execution_count": 5,
   "id": "6f4bad71",
   "metadata": {},
   "outputs": [
    {
     "data": {
      "text/plain": [
       "'l': ASCII/Unicode U+006C (category Ll: Letter, lowercase)"
      ]
     },
     "execution_count": 5,
     "metadata": {},
     "output_type": "execute_result"
    }
   ],
   "source": [
    "s1[10]"
   ]
  },
  {
   "cell_type": "code",
   "execution_count": 6,
   "id": "3a26a563",
   "metadata": {},
   "outputs": [
    {
     "data": {
      "text/plain": [
       "\"love\""
      ]
     },
     "execution_count": 6,
     "metadata": {},
     "output_type": "execute_result"
    }
   ],
   "source": [
    "s1[3:6]"
   ]
  },
  {
   "cell_type": "code",
   "execution_count": 7,
   "id": "f6a803b4",
   "metadata": {},
   "outputs": [
    {
     "data": {
      "text/plain": [
       "\"julia\""
      ]
     },
     "execution_count": 7,
     "metadata": {},
     "output_type": "execute_result"
    }
   ],
   "source": [
    "s1[8:12]"
   ]
  },
  {
   "cell_type": "code",
   "execution_count": 8,
   "id": "5978fe53",
   "metadata": {},
   "outputs": [
    {
     "data": {
      "text/plain": [
       "true"
      ]
     },
     "execution_count": 8,
     "metadata": {},
     "output_type": "execute_result"
    }
   ],
   "source": [
    "isascii(s1)"
   ]
  },
  {
   "cell_type": "code",
   "execution_count": 10,
   "id": "fe236ed1",
   "metadata": {},
   "outputs": [
    {
     "data": {
      "text/plain": [
       "\"Love Julia\""
      ]
     },
     "execution_count": 10,
     "metadata": {},
     "output_type": "execute_result"
    }
   ],
   "source": [
    "\"Love \" * \"Julia\""
   ]
  },
  {
   "cell_type": "code",
   "execution_count": 11,
   "id": "d6df0ada",
   "metadata": {},
   "outputs": [
    {
     "data": {
      "text/plain": [
       "\"Love Love Love Love Love \""
      ]
     },
     "execution_count": 11,
     "metadata": {},
     "output_type": "execute_result"
    }
   ],
   "source": [
    "\"Love \" ^ 5"
   ]
  },
  {
   "cell_type": "code",
   "execution_count": 12,
   "id": "b5fd9df1",
   "metadata": {},
   "outputs": [
    {
     "data": {
      "text/plain": [
       "\"LoveLoveLoveLoveLove\""
      ]
     },
     "execution_count": 12,
     "metadata": {},
     "output_type": "execute_result"
    }
   ],
   "source": [
    "\"Love\" ^ 5"
   ]
  },
  {
   "cell_type": "code",
   "execution_count": 13,
   "id": "24ff31b2",
   "metadata": {},
   "outputs": [
    {
     "data": {
      "text/plain": [
       "\"Love Julia\""
      ]
     },
     "execution_count": 13,
     "metadata": {},
     "output_type": "execute_result"
    }
   ],
   "source": [
    "string(\"Love \", \"Julia\")"
   ]
  },
  {
   "cell_type": "code",
   "execution_count": 14,
   "id": "7d74b1ee",
   "metadata": {},
   "outputs": [
    {
     "data": {
      "text/plain": [
       "3-element Vector{SubString{String}}:\n",
       " \"I\"\n",
       " \"love\"\n",
       " \"julia\""
      ]
     },
     "execution_count": 14,
     "metadata": {},
     "output_type": "execute_result"
    }
   ],
   "source": [
    "split(s1)"
   ]
  },
  {
   "cell_type": "code",
   "execution_count": 15,
   "id": "82da280d",
   "metadata": {},
   "outputs": [
    {
     "data": {
      "text/plain": [
       "2-element Vector{SubString{String}}:\n",
       " \"I lov\"\n",
       " \" julia\""
      ]
     },
     "execution_count": 15,
     "metadata": {},
     "output_type": "execute_result"
    }
   ],
   "source": [
    "split(s1, \"e\")"
   ]
  },
  {
   "cell_type": "code",
   "execution_count": 17,
   "id": "bc703086",
   "metadata": {},
   "outputs": [
    {
     "data": {
      "text/plain": [
       "2-element Vector{SubString{String}}:\n",
       " \"I \"\n",
       " \" julia\""
      ]
     },
     "execution_count": 17,
     "metadata": {},
     "output_type": "execute_result"
    }
   ],
   "source": [
    "split(s1, \"love\")"
   ]
  },
  {
   "cell_type": "code",
   "execution_count": 18,
   "id": "45e64dc5",
   "metadata": {},
   "outputs": [
    {
     "data": {
      "text/plain": [
       "12-element Vector{SubString{String}}:\n",
       " \"I\"\n",
       " \" \"\n",
       " \"l\"\n",
       " \"o\"\n",
       " \"v\"\n",
       " \"e\"\n",
       " \" \"\n",
       " \"j\"\n",
       " \"u\"\n",
       " \"l\"\n",
       " \"i\"\n",
       " \"a\""
      ]
     },
     "execution_count": 18,
     "metadata": {},
     "output_type": "execute_result"
    }
   ],
   "source": [
    "split(s1, \"\")"
   ]
  },
  {
   "cell_type": "code",
   "execution_count": 19,
   "id": "c82b760e",
   "metadata": {},
   "outputs": [
    {
     "data": {
      "text/plain": [
       "100"
      ]
     },
     "execution_count": 19,
     "metadata": {},
     "output_type": "execute_result"
    }
   ],
   "source": [
    "parse(Int64,\"100\")"
   ]
  },
  {
   "cell_type": "code",
   "execution_count": 20,
   "id": "afe50036",
   "metadata": {},
   "outputs": [
    {
     "data": {
      "text/plain": [
       "100.5"
      ]
     },
     "execution_count": 20,
     "metadata": {},
     "output_type": "execute_result"
    }
   ],
   "source": [
    "parse(Float64,\"100.5\")"
   ]
  },
  {
   "cell_type": "code",
   "execution_count": 21,
   "id": "716731cd",
   "metadata": {},
   "outputs": [
    {
     "data": {
      "text/plain": [
       "true"
      ]
     },
     "execution_count": 21,
     "metadata": {},
     "output_type": "execute_result"
    }
   ],
   "source": [
    "in('I',s1)"
   ]
  },
  {
   "cell_type": "code",
   "execution_count": 22,
   "id": "c68f2be3",
   "metadata": {},
   "outputs": [
    {
     "data": {
      "text/plain": [
       "true"
      ]
     },
     "execution_count": 22,
     "metadata": {},
     "output_type": "execute_result"
    }
   ],
   "source": [
    "occursin(\"love\",s1)"
   ]
  },
  {
   "cell_type": "code",
   "execution_count": 23,
   "id": "7d4419d9",
   "metadata": {},
   "outputs": [
    {
     "data": {
      "text/plain": [
       "3:3"
      ]
     },
     "execution_count": 23,
     "metadata": {},
     "output_type": "execute_result"
    }
   ],
   "source": [
    "findfirst(\"l\",s1)"
   ]
  },
  {
   "cell_type": "code",
   "execution_count": 24,
   "id": "22d16a7c",
   "metadata": {},
   "outputs": [
    {
     "data": {
      "text/plain": [
       "3:6"
      ]
     },
     "execution_count": 24,
     "metadata": {},
     "output_type": "execute_result"
    }
   ],
   "source": [
    "findfirst(\"love\",s1)"
   ]
  },
  {
   "cell_type": "code",
   "execution_count": 25,
   "id": "2a3bd30a",
   "metadata": {},
   "outputs": [
    {
     "data": {
      "text/plain": [
       "\"I adore julia\""
      ]
     },
     "execution_count": 25,
     "metadata": {},
     "output_type": "execute_result"
    }
   ],
   "source": [
    "s1=replace(s1,\"love\"=>\"adore\")"
   ]
  },
  {
   "cell_type": "code",
   "execution_count": 26,
   "id": "454ee412",
   "metadata": {},
   "outputs": [
    {
     "data": {
      "text/plain": [
       "\"I adore julia\""
      ]
     },
     "execution_count": 26,
     "metadata": {},
     "output_type": "execute_result"
    }
   ],
   "source": [
    "s1"
   ]
  },
  {
   "cell_type": "code",
   "execution_count": null,
   "id": "79dd26d7",
   "metadata": {},
   "outputs": [],
   "source": []
  }
 ],
 "metadata": {
  "kernelspec": {
   "display_name": "Julia 1.8.3",
   "language": "julia",
   "name": "julia-1.8"
  },
  "language_info": {
   "file_extension": ".jl",
   "mimetype": "application/julia",
   "name": "julia",
   "version": "1.8.3"
  }
 },
 "nbformat": 4,
 "nbformat_minor": 5
}
